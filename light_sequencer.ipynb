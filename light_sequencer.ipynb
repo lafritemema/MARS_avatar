{
 "cells": [
  {
   "cell_type": "code",
   "execution_count": 3,
   "id": "618dc688",
   "metadata": {},
   "outputs": [
    {
     "name": "stdout",
     "output_type": "stream",
     "text": [
      " [x] Sent to avatar service : {\"manipulation\": \"LOAD\", \"equipment\": {\"type\": \"EFFECTOR\", \"reference\": \"WEB_C_DRILLING\"}}\n",
      " [*] Waiting for report from HMI. To exit press CTRL+C\n",
      " [x] Received from avatar service : OK\n",
      " [*] connection closed\n"
     ]
    }
   ],
   "source": [
    "#\n",
    "# light sequencer: action request sending to the avatar microservice \n",
    "#                 \n",
    "#\n",
    "\n",
    "#!/usr/bin/env python\n",
    "import pika, sys, os, json\n",
    "\n",
    "action_request = lambda manip, equip, ref: {          \n",
    "                    \"manipulation\": manip,\n",
    "                    \"equipment\": {\n",
    "                        \"type\": equip,\n",
    "                        \"reference\": ref\n",
    "                        }\n",
    "                     }\n",
    "\n",
    "def callback(ch, method, properties, body):\n",
    "    print(\" [x] Received from avatar service : %s\" % body.decode())\n",
    "    if body.decode() in [\"OK\", \"NOK\"]:\n",
    "        ch.stop_consuming()\n",
    "\n",
    "def main(desc, ident, action_type):\n",
    "    \n",
    "    connection = pika.BlockingConnection(pika.ConnectionParameters(host='localhost'))\n",
    "    channel = connection.channel()\n",
    "    channel.exchange_declare(exchange='mars', exchange_type='topic')\n",
    "    \n",
    "    msg=json.dumps(action_request(desc,ident,action_type))\n",
    "    channel.basic_publish(exchange='mars', \n",
    "                          routing_key=\"sequencer.hmi.request\", \n",
    "                          body=msg)\n",
    "    print(\" [x] Sent to avatar service : %s\" % msg)\n",
    "\n",
    "    result = channel.queue_declare('', exclusive=True)\n",
    "    queue_name = result.method.queue\n",
    "    channel.queue_bind(exchange='mars', queue=queue_name, routing_key=\"hmi.sequencer.report\")\n",
    "    \n",
    "    print(' [*] Waiting for report from HMI. To exit press CTRL+C') \n",
    "    channel.basic_consume(queue=queue_name, on_message_callback=callback, auto_ack=True)\n",
    "    channel.start_consuming()\n",
    "    connection.close()\n",
    "    print(\" [*] connection closed\")\n",
    "\n",
    "if __name__ == '__main__':\n",
    "    try:\n",
    "        main('LOAD','EFFECTOR','WEB_C_DRILLING')\n",
    "    except KeyboardInterrupt:\n",
    "        print('Interrupted')\n",
    "        try:\n",
    "            sys.exit(0)\n",
    "        except SystemExit:\n",
    "            os._exit(0)"
   ]
  },
  {
   "cell_type": "code",
   "execution_count": null,
   "id": "8fa9328d",
   "metadata": {},
   "outputs": [],
   "source": []
  },
  {
   "cell_type": "code",
   "execution_count": null,
   "id": "4e71e38e",
   "metadata": {},
   "outputs": [],
   "source": []
  }
 ],
 "metadata": {
  "kernelspec": {
   "display_name": "Python 3 (ipykernel)",
   "language": "python",
   "name": "python3"
  },
  "language_info": {
   "codemirror_mode": {
    "name": "ipython",
    "version": 3
   },
   "file_extension": ".py",
   "mimetype": "text/x-python",
   "name": "python",
   "nbconvert_exporter": "python",
   "pygments_lexer": "ipython3",
   "version": "3.9.7"
  }
 },
 "nbformat": 4,
 "nbformat_minor": 5
}
